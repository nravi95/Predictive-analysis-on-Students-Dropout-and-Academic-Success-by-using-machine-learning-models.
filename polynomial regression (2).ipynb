{
 "cells": [
  {
   "cell_type": "code",
   "execution_count": 1,
   "id": "b5120f8c",
   "metadata": {},
   "outputs": [],
   "source": [
    "import pandas as pd\n",
    "import numpy as np\n",
    "import scipy.stats.stats\n",
    "import pandas as pd\n",
    "import matplotlib.pyplot as plt\n",
    "import numpy as np\n",
    "import os\n",
    "from sklearn.model_selection import train_test_split \n",
    "from sklearn.linear_model import LinearRegression\n",
    "from sklearn import metrics\n",
    "%matplotlib inline\n",
    "import seaborn as sns\n",
    "import itertools\n",
    "import sklearn\n",
    "from sklearn import preprocessing\n",
    "from sklearn.model_selection import train_test_split\n",
    "from sklearn.metrics import precision_score\n",
    "from sklearn.metrics import accuracy_score\n",
    "import matplotlib\n",
    "import matplotlib.pyplot as plt\n",
    "import time\n",
    "from sklearn.model_selection import RandomizedSearchCV\n",
    "from sklearn.metrics import confusion_matrix\n",
    "import seaborn as sns"
   ]
  },
  {
   "cell_type": "code",
   "execution_count": 2,
   "id": "968df740",
   "metadata": {},
   "outputs": [],
   "source": [
    "data = pd.read_csv('C:/Users/ravit/Downloads/Iris.csv')"
   ]
  },
  {
   "cell_type": "code",
   "execution_count": 3,
   "id": "21902568",
   "metadata": {},
   "outputs": [],
   "source": [
    "x=data.drop(['Species','Petal.Width'],axis=1)"
   ]
  },
  {
   "cell_type": "code",
   "execution_count": 4,
   "id": "fa7ba940",
   "metadata": {},
   "outputs": [
    {
     "data": {
      "text/html": [
       "<div>\n",
       "<style scoped>\n",
       "    .dataframe tbody tr th:only-of-type {\n",
       "        vertical-align: middle;\n",
       "    }\n",
       "\n",
       "    .dataframe tbody tr th {\n",
       "        vertical-align: top;\n",
       "    }\n",
       "\n",
       "    .dataframe thead th {\n",
       "        text-align: right;\n",
       "    }\n",
       "</style>\n",
       "<table border=\"1\" class=\"dataframe\">\n",
       "  <thead>\n",
       "    <tr style=\"text-align: right;\">\n",
       "      <th></th>\n",
       "      <th>Sepal.Length</th>\n",
       "      <th>Sepal.Width</th>\n",
       "      <th>Petal.Length</th>\n",
       "    </tr>\n",
       "  </thead>\n",
       "  <tbody>\n",
       "    <tr>\n",
       "      <th>0</th>\n",
       "      <td>5.1</td>\n",
       "      <td>3.5</td>\n",
       "      <td>1.4</td>\n",
       "    </tr>\n",
       "    <tr>\n",
       "      <th>1</th>\n",
       "      <td>4.9</td>\n",
       "      <td>3.0</td>\n",
       "      <td>1.4</td>\n",
       "    </tr>\n",
       "    <tr>\n",
       "      <th>2</th>\n",
       "      <td>4.7</td>\n",
       "      <td>3.2</td>\n",
       "      <td>1.3</td>\n",
       "    </tr>\n",
       "    <tr>\n",
       "      <th>3</th>\n",
       "      <td>4.6</td>\n",
       "      <td>3.1</td>\n",
       "      <td>1.5</td>\n",
       "    </tr>\n",
       "    <tr>\n",
       "      <th>4</th>\n",
       "      <td>5.0</td>\n",
       "      <td>3.6</td>\n",
       "      <td>1.4</td>\n",
       "    </tr>\n",
       "  </tbody>\n",
       "</table>\n",
       "</div>"
      ],
      "text/plain": [
       "   Sepal.Length  Sepal.Width  Petal.Length\n",
       "0           5.1          3.5           1.4\n",
       "1           4.9          3.0           1.4\n",
       "2           4.7          3.2           1.3\n",
       "3           4.6          3.1           1.5\n",
       "4           5.0          3.6           1.4"
      ]
     },
     "execution_count": 4,
     "metadata": {},
     "output_type": "execute_result"
    }
   ],
   "source": [
    "x.head()"
   ]
  },
  {
   "cell_type": "code",
   "execution_count": 5,
   "id": "7b8c48bf",
   "metadata": {},
   "outputs": [],
   "source": [
    "y= data.iloc[:,-2]"
   ]
  },
  {
   "cell_type": "code",
   "execution_count": 6,
   "id": "0bec9da7",
   "metadata": {},
   "outputs": [
    {
     "data": {
      "text/plain": [
       "0    0.2\n",
       "1    0.2\n",
       "2    0.2\n",
       "3    0.2\n",
       "4    0.2\n",
       "Name: Petal.Width, dtype: float64"
      ]
     },
     "execution_count": 6,
     "metadata": {},
     "output_type": "execute_result"
    }
   ],
   "source": [
    "y.head()"
   ]
  },
  {
   "cell_type": "code",
   "execution_count": 23,
   "id": "2e437a3a",
   "metadata": {},
   "outputs": [],
   "source": [
    "from sklearn.preprocessing import PolynomialFeatures\n",
    "poly_tfm = PolynomialFeatures(degree = 3,\n",
    " interaction_only=False,\n",
    "include_bias=False)\n"
   ]
  },
  {
   "cell_type": "code",
   "execution_count": 24,
   "id": "64307e4a",
   "metadata": {},
   "outputs": [
    {
     "name": "stdout",
     "output_type": "stream",
     "text": [
      "[[  5.1     3.5     1.4   ...  17.15    6.86    2.744]\n",
      " [  4.9     3.      1.4   ...  12.6     5.88    2.744]\n",
      " [  4.7     3.2     1.3   ...  13.312   5.408   2.197]\n",
      " ...\n",
      " [  6.5     3.      5.2   ...  46.8    81.12  140.608]\n",
      " [  6.2     3.4     5.4   ...  62.424  99.144 157.464]\n",
      " [  5.9     3.      5.1   ...  45.9    78.03  132.651]]\n",
      "(150, 19)\n"
     ]
    }
   ],
   "source": [
    "poly_tfm.fit(x)\n",
    "poly_features = poly_tfm.transform(x)\n",
    "print(poly_features)\n",
    "print(poly_features.shape)\n"
   ]
  },
  {
   "cell_type": "code",
   "execution_count": 25,
   "id": "daad5250",
   "metadata": {},
   "outputs": [
    {
     "data": {
      "text/plain": [
       "Sepal.Length    5.1\n",
       "Sepal.Width     3.5\n",
       "Petal.Length    1.4\n",
       "Name: 0, dtype: float64"
      ]
     },
     "execution_count": 25,
     "metadata": {},
     "output_type": "execute_result"
    }
   ],
   "source": [
    "x.iloc[0,:]\n"
   ]
  },
  {
   "cell_type": "code",
   "execution_count": 26,
   "id": "afcb534b",
   "metadata": {},
   "outputs": [
    {
     "data": {
      "text/plain": [
       "array([  5.1  ,   3.5  ,   1.4  ,  26.01 ,  17.85 ,   7.14 ,  12.25 ,\n",
       "         4.9  ,   1.96 , 132.651,  91.035,  36.414,  62.475,  24.99 ,\n",
       "         9.996,  42.875,  17.15 ,   6.86 ,   2.744])"
      ]
     },
     "execution_count": 26,
     "metadata": {},
     "output_type": "execute_result"
    }
   ],
   "source": [
    "poly_features[0]\n"
   ]
  },
  {
   "cell_type": "code",
   "execution_count": 27,
   "id": "a5605864",
   "metadata": {},
   "outputs": [
    {
     "name": "stdout",
     "output_type": "stream",
     "text": [
      "5.10\n",
      "3.50\n",
      "1.40\n",
      "26.01\n",
      "17.85\n",
      "7.14\n",
      "12.25\n",
      "4.90\n",
      "1.96\n",
      "132.65\n",
      "91.03\n",
      "36.41\n",
      "62.47\n",
      "24.99\n",
      "10.00\n",
      "42.88\n",
      "17.15\n",
      "6.86\n",
      "2.74\n"
     ]
    }
   ],
   "source": [
    "#print(\"{0:.3f}\".format(a))\n",
    "for a in poly_features[0]:\n",
    " print(\"{0:.2f}\".format(a))"
   ]
  },
  {
   "cell_type": "code",
   "execution_count": 28,
   "id": "17cb7791",
   "metadata": {},
   "outputs": [
    {
     "name": "stdout",
     "output_type": "stream",
     "text": [
      "(120, 19)\n",
      "(30, 19)\n",
      "(120,)\n",
      "(30,)\n"
     ]
    }
   ],
   "source": [
    "from sklearn.model_selection import train_test_split\n",
    "X_train, X_test, y_train, y_test = train_test_split(poly_features , y, test_size=0.2, random_state=0)\n",
    "print(X_train.shape)\n",
    "print(X_test.shape)\n",
    "print(y_train.shape)\n",
    "print(y_test.shape)\n"
   ]
  },
  {
   "cell_type": "code",
   "execution_count": 29,
   "id": "08a0d7c6",
   "metadata": {},
   "outputs": [
    {
     "data": {
      "text/html": [
       "<style>#sk-container-id-2 {color: black;background-color: white;}#sk-container-id-2 pre{padding: 0;}#sk-container-id-2 div.sk-toggleable {background-color: white;}#sk-container-id-2 label.sk-toggleable__label {cursor: pointer;display: block;width: 100%;margin-bottom: 0;padding: 0.3em;box-sizing: border-box;text-align: center;}#sk-container-id-2 label.sk-toggleable__label-arrow:before {content: \"▸\";float: left;margin-right: 0.25em;color: #696969;}#sk-container-id-2 label.sk-toggleable__label-arrow:hover:before {color: black;}#sk-container-id-2 div.sk-estimator:hover label.sk-toggleable__label-arrow:before {color: black;}#sk-container-id-2 div.sk-toggleable__content {max-height: 0;max-width: 0;overflow: hidden;text-align: left;background-color: #f0f8ff;}#sk-container-id-2 div.sk-toggleable__content pre {margin: 0.2em;color: black;border-radius: 0.25em;background-color: #f0f8ff;}#sk-container-id-2 input.sk-toggleable__control:checked~div.sk-toggleable__content {max-height: 200px;max-width: 100%;overflow: auto;}#sk-container-id-2 input.sk-toggleable__control:checked~label.sk-toggleable__label-arrow:before {content: \"▾\";}#sk-container-id-2 div.sk-estimator input.sk-toggleable__control:checked~label.sk-toggleable__label {background-color: #d4ebff;}#sk-container-id-2 div.sk-label input.sk-toggleable__control:checked~label.sk-toggleable__label {background-color: #d4ebff;}#sk-container-id-2 input.sk-hidden--visually {border: 0;clip: rect(1px 1px 1px 1px);clip: rect(1px, 1px, 1px, 1px);height: 1px;margin: -1px;overflow: hidden;padding: 0;position: absolute;width: 1px;}#sk-container-id-2 div.sk-estimator {font-family: monospace;background-color: #f0f8ff;border: 1px dotted black;border-radius: 0.25em;box-sizing: border-box;margin-bottom: 0.5em;}#sk-container-id-2 div.sk-estimator:hover {background-color: #d4ebff;}#sk-container-id-2 div.sk-parallel-item::after {content: \"\";width: 100%;border-bottom: 1px solid gray;flex-grow: 1;}#sk-container-id-2 div.sk-label:hover label.sk-toggleable__label {background-color: #d4ebff;}#sk-container-id-2 div.sk-serial::before {content: \"\";position: absolute;border-left: 1px solid gray;box-sizing: border-box;top: 0;bottom: 0;left: 50%;z-index: 0;}#sk-container-id-2 div.sk-serial {display: flex;flex-direction: column;align-items: center;background-color: white;padding-right: 0.2em;padding-left: 0.2em;position: relative;}#sk-container-id-2 div.sk-item {position: relative;z-index: 1;}#sk-container-id-2 div.sk-parallel {display: flex;align-items: stretch;justify-content: center;background-color: white;position: relative;}#sk-container-id-2 div.sk-item::before, #sk-container-id-2 div.sk-parallel-item::before {content: \"\";position: absolute;border-left: 1px solid gray;box-sizing: border-box;top: 0;bottom: 0;left: 50%;z-index: -1;}#sk-container-id-2 div.sk-parallel-item {display: flex;flex-direction: column;z-index: 1;position: relative;background-color: white;}#sk-container-id-2 div.sk-parallel-item:first-child::after {align-self: flex-end;width: 50%;}#sk-container-id-2 div.sk-parallel-item:last-child::after {align-self: flex-start;width: 50%;}#sk-container-id-2 div.sk-parallel-item:only-child::after {width: 0;}#sk-container-id-2 div.sk-dashed-wrapped {border: 1px dashed gray;margin: 0 0.4em 0.5em 0.4em;box-sizing: border-box;padding-bottom: 0.4em;background-color: white;}#sk-container-id-2 div.sk-label label {font-family: monospace;font-weight: bold;display: inline-block;line-height: 1.2em;}#sk-container-id-2 div.sk-label-container {text-align: center;}#sk-container-id-2 div.sk-container {/* jupyter's `normalize.less` sets `[hidden] { display: none; }` but bootstrap.min.css set `[hidden] { display: none !important; }` so we also need the `!important` here to be able to override the default hidden behavior on the sphinx rendered scikit-learn.org. See: https://github.com/scikit-learn/scikit-learn/issues/21755 */display: inline-block !important;position: relative;}#sk-container-id-2 div.sk-text-repr-fallback {display: none;}</style><div id=\"sk-container-id-2\" class=\"sk-top-container\"><div class=\"sk-text-repr-fallback\"><pre>LinearRegression()</pre><b>In a Jupyter environment, please rerun this cell to show the HTML representation or trust the notebook. <br />On GitHub, the HTML representation is unable to render, please try loading this page with nbviewer.org.</b></div><div class=\"sk-container\" hidden><div class=\"sk-item\"><div class=\"sk-estimator sk-toggleable\"><input class=\"sk-toggleable__control sk-hidden--visually\" id=\"sk-estimator-id-2\" type=\"checkbox\" checked><label for=\"sk-estimator-id-2\" class=\"sk-toggleable__label sk-toggleable__label-arrow\">LinearRegression</label><div class=\"sk-toggleable__content\"><pre>LinearRegression()</pre></div></div></div></div></div>"
      ],
      "text/plain": [
       "LinearRegression()"
      ]
     },
     "execution_count": 29,
     "metadata": {},
     "output_type": "execute_result"
    }
   ],
   "source": [
    "from sklearn.linear_model import LinearRegression\n",
    "poly_model = LinearRegression()\n",
    "poly_model.fit(X_train,y_train)\n"
   ]
  },
  {
   "cell_type": "code",
   "execution_count": 30,
   "id": "8bd7bc9f",
   "metadata": {},
   "outputs": [
    {
     "name": "stdout",
     "output_type": "stream",
     "text": [
      "poly_model.coef_:  [-1.06297416e+01 -1.04720784e+01  1.29911759e+00  5.44146861e-01\n",
      "  4.95848481e+00  7.99430733e-02 -6.58599075e-01 -1.29497669e+00\n",
      "  1.99815780e-01  1.09344755e-01 -7.84062087e-01 -6.78224518e-02\n",
      "  5.23261111e-01  3.54307208e-01 -3.17599712e-02 -2.10109322e-01\n",
      " -1.38832425e-01  4.48592126e-03 -3.45979121e-03]\n",
      "poly_model.intercept_:  29.57378255447092\n"
     ]
    }
   ],
   "source": [
    "print(\"poly_model.coef_: \", poly_model.coef_)\n",
    "print(\"poly_model.intercept_: \", poly_model.intercept_)\n"
   ]
  },
  {
   "cell_type": "code",
   "execution_count": 31,
   "id": "896474e2",
   "metadata": {},
   "outputs": [],
   "source": [
    "y_predicted = poly_model.predict(X_test)\n",
    "test_residuals = y_test - y_predicted"
   ]
  },
  {
   "cell_type": "code",
   "execution_count": 32,
   "id": "fbb13bcb",
   "metadata": {},
   "outputs": [
    {
     "name": "stdout",
     "output_type": "stream",
     "text": [
      "RMSE:  0.20862176744470076\n",
      "R2 Score:  0.9093458824166823\n"
     ]
    }
   ],
   "source": [
    "from sklearn.metrics import mean_squared_error, r2_score\n",
    "mse = mean_squared_error(y_test, y_predicted)\n",
    "rmse = np.sqrt(mse)\n",
    "r2 = r2_score(y_test,y_predicted)\n",
    "print(\"RMSE: \", rmse)\n",
    "print(\"R2 Score: \", r2)"
   ]
  },
  {
   "cell_type": "code",
   "execution_count": 19,
   "id": "d9341bea",
   "metadata": {},
   "outputs": [],
   "source": [
    "import numpy as np\n",
    "import pandas as pd\n",
    "import matplotlib.pyplot as plt\n",
    "import seaborn as sns\n",
    "from sklearn.preprocessing import PolynomialFeatures\n",
    "from sklearn.model_selection import train_test_split\n",
    "from sklearn.linear_model import LinearRegression\n",
    "from sklearn.metrics import mean_squared_error, r2_score\n",
    "data = pd.read_csv('C:/Users/ravit/Downloads/Iris.csv')\n",
    "x=data.drop(['Species','Petal.Width'],axis=1)\n",
    "y= data.iloc[:,-2]\n",
    "train_rmse_errors = []\n",
    "test_rmse_errors = []\n",
    "for d in range(1,6):\n",
    " # Create poly data set for degree d=1,2,3,4,5 in each loop iteration\n",
    " polynomial_converter = PolynomialFeatures(degree=d,include_bias=False)\n",
    " poly_features = polynomial_converter.fit_transform(x)\n",
    "\n",
    " # Split this new poly data set\n",
    " X_train, X_test, y_train, y_test = train_test_split(poly_features, y, test_size=0.2, random_state=0)\n",
    "\n",
    " # Create LR model and train it on new polynomial feature set\n",
    " model= LinearRegression()\n",
    " model.fit(X_train,y_train)\n",
    "\n",
    " # Predict on both train and test data\n",
    " train_pred = model.predict(X_train)\n",
    " test_pred = model.predict(X_test)\n",
    "\n",
    " # Compute Errors on Train and Test Set and append to lists\n",
    " train_RMSE = np.sqrt(mean_squared_error(y_train,train_pred))\n",
    " test_RMSE = np.sqrt(mean_squared_error(y_test,test_pred))\n",
    " train_rmse_errors.append(train_RMSE)\n",
    " test_rmse_errors.append(test_RMSE)"
   ]
  },
  {
   "cell_type": "code",
   "execution_count": 20,
   "id": "8728980d",
   "metadata": {},
   "outputs": [
    {
     "data": {
      "text/plain": [
       "[0.17891110992254677,\n",
       " 0.17078508727402453,\n",
       " 0.15642238948490714,\n",
       " 0.14363955018676938,\n",
       " 0.11879844455282197]"
      ]
     },
     "execution_count": 20,
     "metadata": {},
     "output_type": "execute_result"
    }
   ],
   "source": [
    "train_rmse_errors\n"
   ]
  },
  {
   "cell_type": "code",
   "execution_count": 21,
   "id": "7a35a999",
   "metadata": {},
   "outputs": [
    {
     "data": {
      "text/plain": [
       "[0.2284037468786033,\n",
       " 0.22014122452501497,\n",
       " 0.20862176744470076,\n",
       " 0.25230831695967476,\n",
       " 0.797081566371795]"
      ]
     },
     "execution_count": 21,
     "metadata": {},
     "output_type": "execute_result"
    }
   ],
   "source": [
    "test_rmse_errors\n"
   ]
  },
  {
   "cell_type": "code",
   "execution_count": 22,
   "id": "d1e41f33",
   "metadata": {},
   "outputs": [
    {
     "data": {
      "image/png": "[encoded data removed]",
      "text/plain": [
       "<Figure size 640x480 with 1 Axes>"
      ]
     },
     "metadata": {},
     "output_type": "display_data"
    }
   ],
   "source": [
    "plt.plot(range(1,6),train_rmse_errors,label='TRAIN')\n",
    "plt.plot(range(1,6),test_rmse_errors,label='TEST')\n",
    "plt.xlabel(\"Model Complexity (degree)\")\n",
    "plt.ylabel(\"RMSE\")\n",
    "plt.legend();\n"
   ]
  },
  {
   "cell_type": "code",
   "execution_count": null,
   "id": "eeefdeb8",
   "metadata": {},
   "outputs": [],
   "source": [
    "model.fit(X_train2,y_train2,)\n",
    "model.coef_\n",
    "model.intercept_"
   ]
  }
 ],
 "metadata": {
  "kernelspec": {
   "display_name": "Python 3 (ipykernel)",
   "language": "python",
   "name": "python3"
  },
  "language_info": {
   "codemirror_mode": {
    "name": "ipython",
    "version": 3
   },
   "file_extension": ".py",
   "mimetype": "text/x-python",
   "name": "python",
   "nbconvert_exporter": "python",
   "pygments_lexer": "ipython3",
   "version": "3.10.9"
  }
 },
 "nbformat": 4,
 "nbformat_minor": 5
}
